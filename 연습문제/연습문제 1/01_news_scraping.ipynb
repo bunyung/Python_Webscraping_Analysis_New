{
 "cells": [
  {
   "cell_type": "code",
   "execution_count": null,
   "id": "573b9ad8",
   "metadata": {},
   "outputs": [
    {
     "ename": "SyntaxError",
     "evalue": "invalid character '…' (U+2026) (1092772809.py, line 6)",
     "output_type": "error",
     "traceback": [
      "\u001b[1;36m  Cell \u001b[1;32mIn[5], line 6\u001b[1;36m\u001b[0m\n\u001b[1;33m    <strong class=\"tit_txt\">뉴스제쌀·소고기 수입 문턱 낮추나… 농식품부 ‘안 된다’ 하지만 막판 카드 활용 가능성도\u001b[0m\n\u001b[1;37m                                              ^\u001b[0m\n\u001b[1;31mSyntaxError\u001b[0m\u001b[1;31m:\u001b[0m invalid character '…' (U+2026)\n"
     ]
    }
   ],
   "source": [
    "response를 utf-8로 encoding\n",
    "<ul>\n",
    "   <li> \n",
    "     <a href=\"https://v.daum.net/v/20250723142747205\">\n",
    "     <div class=\"cont_thum\">\n",
    "        <strong class=\"tit_txt\">뉴스제쌀·소고기 수입 문턱 낮추나… 농식품부 ‘안 된다’ 하지만 막판 카드 활용 가능성도\n",
    "\n",
    "for li_tag in select('ul.list_newsheadline2 li'):\n",
    "    a_tag = li_tag.find('a')\n",
    "    link = a_tag['href']\t\n",
    "        \n",
    "    strong_tag = li_tag.select_one('div.cont_thumb strong.tit_txt')\n",
    "    title = strong_tag.text"
   ]
  },
  {
   "cell_type": "code",
   "execution_count": 2,
   "id": "e51e2d84",
   "metadata": {},
   "outputs": [],
   "source": [
    "import requests\n",
    "from bs4 import BeautifulSoup\n",
    "\n",
    "# 뉴스 URL\n",
    "url = 'https://news.daum.net/economy'\n",
    "\n",
    "# HTTP 요청 보내기\n",
    "response = requests.get(url)\n",
    "\n",
    "# 응답 받은 HTML 내용 파싱\n",
    "soup = BeautifulSoup(response.text, 'html.parser')\n",
    "\n",
    "# 기사 제목과 링크 추출\n",
    "articles = soup.find_all('a', class_='link_txt')  # 링크를 포함한 태그 클래스 찾기\n",
    "\n",
    "for article in articles:\n",
    "    title = article.get_text()  # 기사 제목\n",
    "    link = article['href']  # 기사 링크\n",
    "    print(f\"제목: {title}, 링크: {link}\")"
   ]
  },
  {
   "cell_type": "code",
   "execution_count": 3,
   "id": "c8e13f39",
   "metadata": {},
   "outputs": [
    {
     "name": "stdout",
     "output_type": "stream",
     "text": [
      "200 True\n",
      "<class 'requests.models.Response'>\n",
      "<Response [200]>\n",
      "0\n",
      "<class 'bs4.element.ResultSet'>\n"
     ]
    }
   ],
   "source": [
    "# 요청 헤더 설정 : 브라우저 정보\n",
    "req_header = {\n",
    "    \"user-agent\": \"Mozilla/5.0 (Windows NT 10.0; Win64; x64) AppleWebKit/537.36 (KHTML, like Gecko) Chrome/138.0.0.0 Safari/537.36\"\n",
    "}\n",
    "\n",
    "# requests 의 get() 함수 호출하기 \n",
    "res=requests.get(url,headers=req_header)\n",
    "print(res.status_code, res.ok)\n",
    "print(type(res))\n",
    "print(res)\n",
    "\n",
    "# 응답(response)이 OK 이면\n",
    "# 응답 (response)에서 text 추출\n",
    "if res.ok:\n",
    "    html = res.text\n",
    "    # BeautifulSoup 객체 생성\n",
    "    soup = BeautifulSoup(html, \"html.parser\")   \n",
    "    #print(soup)\n",
    "    # CSS 선택자\n",
    "    # print(soup.select(\"div.sa_text a[href*='mnews/article']\"))\n",
    "    '''\n",
    "       <div class='sa_text'> \n",
    "          <a href=\"https://v.daum.net/v/20250723142747205 class=\"item_newsheadline2le\">\n",
    "    '''\n",
    "    a_tags = soup.select(\"div.sa_text a[href*='https://v.daum.net/v'].item_newsheadline2le\")\n",
    "    print(len(a_tags))\n",
    "    print(type(a_tags)) #[Tag,Tag,Tag]\n",
    "    # <a> 태그 리스트 순회하기\n",
    "    for idx,a_tag in enumerate(a_tags,1):        \n",
    "        if a_tag.text:\n",
    "            title = a_tag.text.strip() # 제목\n",
    "            link = a_tag['href'] # 링크\n",
    "            #print(len(title))\n",
    "            print(f'{idx} {title} {link}')\n",
    "else:\n",
    "    # 응답(response)이 Error 이면 status code 출력    \n",
    "    print(f'Error Code = {res.status_code}')"
   ]
  },
  {
   "cell_type": "code",
   "execution_count": 4,
   "id": "f413ae6a",
   "metadata": {},
   "outputs": [
    {
     "ename": "IndentationError",
     "evalue": "unexpected indent (1506386016.py, line 10)",
     "output_type": "error",
     "traceback": [
      "\u001b[1;36m  Cell \u001b[1;32mIn[4], line 10\u001b[1;36m\u001b[0m\n\u001b[1;33m    print_news('사회')\u001b[0m\n\u001b[1;37m    ^\u001b[0m\n\u001b[1;31mIndentationError\u001b[0m\u001b[1;31m:\u001b[0m unexpected indent\n"
     ]
    }
   ],
   "source": [
    "section_dict = {'기후/환경':'climate','사회':'society','경제':'economy','정치':'politics',\\\n",
    "             '국제':'world','문화':'culture','생활':'life','IT/과학':'tech','인물':'people'}\n",
    "\n",
    "# 함수선언\n",
    "def print_news(section_name):\n",
    "\tpass\n",
    "\n",
    "# 함수호출\n",
    "print_news('경제')\n",
    "\tprint_news('사회')"
   ]
  }
 ],
 "metadata": {
  "kernelspec": {
   "display_name": "base",
   "language": "python",
   "name": "python3"
  },
  "language_info": {
   "codemirror_mode": {
    "name": "ipython",
    "version": 3
   },
   "file_extension": ".py",
   "mimetype": "text/x-python",
   "name": "python",
   "nbconvert_exporter": "python",
   "pygments_lexer": "ipython3",
   "version": "3.12.7"
  }
 },
 "nbformat": 4,
 "nbformat_minor": 5
}
