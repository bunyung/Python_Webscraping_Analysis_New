{
 "cells": [
  {
   "cell_type": "markdown",
   "id": "a6250830",
   "metadata": {},
   "source": [
    "## 1. urljoin 함수 사용"
   ]
  },
  {
   "cell_type": "code",
   "execution_count": null,
   "id": "cffaddbd",
   "metadata": {},
   "outputs": [],
   "source": [
    "import requests\n",
    "from bs4 import BeautifulSoup\n",
    "from urllib.parse import urljoin\n",
    "\n",
    "def scrape_nate_news_images():\n",
    "    base_url = 'https://news.nate.com'\n",
    "    section_urls = {\n",
    "        '최신뉴스': 'https://news.nate.com/recent?mid=n0100',\n",
    "        '정치': 'https://news.nate.com/recent?mid=n0101',\n",
    "        '경제': 'https://news.nate.com/recent?mid=n0102',\n",
    "        '사회': 'https://news.nate.com/recent?mid=n0103',\n",
    "        '세계': 'https://news.nate.com/recent?mid=n0104',\n",
    "        'IT/과학': 'https://news.nate.com/recent?mid=n0105',\n",
    "    }\n",
    "\n",
    "    for section, url in section_urls.items():\n",
    "        print(f'\\n[섹션: {section}]')\n",
    "        response = requests.get(url)\n",
    "        soup = BeautifulSoup(response.text, 'html.parser')\n",
    "        \n",
    "        articles = soup.select('div.postSubject a')[:5]  # 기사 5개만 예시\n",
    "        for a_tag in articles:\n",
    "            title = a_tag.get_text(strip=True)\n",
    "            link = urljoin(base_url, a_tag['href'])\n",
    "\n",
    "            # 이미지 찾기 (뉴스 리스트에서 이미지 태그가 있는 경우)\n",
    "            img_tag = a_tag.find('img')\n",
    "            if img_tag and 'src' in img_tag.attrs:\n",
    "                image_url = urljoin(base_url, img_tag['src'])\n",
    "            else:\n",
    "                image_url = '이미지 없음'\n",
    "\n",
    "            print(f'- 제목: {title}')\n",
    "            print(f'  링크: {link}')\n",
    "            print(f'  이미지: {image_url}')\n"
   ]
  },
  {
   "cell_type": "code",
   "execution_count": 9,
   "id": "a58ca220",
   "metadata": {},
   "outputs": [
    {
     "name": "stdout",
     "output_type": "stream",
     "text": [
      "https://thumbnews.nateimg.co.kr/news90///news.nateimg.co.kr/orgImg/na/2025/07/23/7408335_high.jpg\n"
     ]
    }
   ],
   "source": [
    "from urllib.parse import urljoin\n",
    "\n",
    "base_url = 'https://news.nate.com'\n",
    "src = '//thumbnews.nateimg.co.kr/news90///news.nateimg.co.kr/orgImg/na/2025/07/23/7408335_high.jpg'\n",
    "\n",
    "# 전체 이미지 URL 생성\n",
    "image_url = urljoin(base_url, src)\n",
    "print(image_url)"
   ]
  },
  {
   "cell_type": "markdown",
   "id": "3ca3e735",
   "metadata": {},
   "source": [
    "## 2. Image 클래스와 display 함수 사용"
   ]
  },
  {
   "cell_type": "code",
   "execution_count": 12,
   "id": "3433811c",
   "metadata": {},
   "outputs": [],
   "source": [
    "import requests\n",
    "from bs4 import BeautifulSoup\n",
    "from urllib.parse import urljoin\n",
    "from IPython.display import Image, display\n",
    "\n",
    "def scrape_nate_news_with_images():\n",
    "    base_url = 'https://news.nate.com'\n",
    "    section_urls = {\n",
    "        '최신뉴스': 'https://news.nate.com/recent?mid=n0100',\n",
    "        '정치': 'https://news.nate.com/recent?mid=n0101',\n",
    "        '경제': 'https://news.nate.com/recent?mid=n0102',\n",
    "        '사회': 'https://news.nate.com/recent?mid=n0103',\n",
    "        '세계': 'https://news.nate.com/recent?mid=n0104',\n",
    "        'IT/과학': 'https://news.nate.com/recent?mid=n0105',\n",
    "    }\n",
    "\n",
    "    for section, url in section_urls.items():\n",
    "        print(f'\\n🔹 [섹션: {section}]\\n')\n",
    "        response = requests.get(url)\n",
    "        soup = BeautifulSoup(response.text, 'html.parser')\n",
    "\n",
    "        # 기사 영역에서 a 태그와 img 태그 추출\n",
    "        articles = soup.select('div.mduSubjectList > ul > li')[:5]  # 기사 5개만 예시\n",
    "\n",
    "        for article in articles:\n",
    "            a_tag = article.select_one('a')\n",
    "            if not a_tag:\n",
    "                continue\n",
    "\n",
    "            title = a_tag.get_text(strip=True)\n",
    "            link = urljoin(base_url, a_tag['href'])\n",
    "\n",
    "            img_tag = article.select_one('img')\n",
    "            if img_tag and 'src' in img_tag.attrs:\n",
    "                image_url = urljoin(base_url, img_tag['src'])\n",
    "                print(f'📰 제목: {title}')\n",
    "                print(f'🔗 링크: {link}')\n",
    "                print(f'🖼️ 이미지 링크: {image_url}')\n",
    "                display(Image(url=image_url))\n",
    "            else:\n",
    "                print(f'📰 제목: {title}')\n",
    "                print(f'🔗 링크: {link}')\n",
    "                print('🖼️ 이미지 없음\\n')"
   ]
  },
  {
   "cell_type": "markdown",
   "id": "37b254df",
   "metadata": {},
   "source": [
    "## 3. 이미지 경로 추출"
   ]
  },
  {
   "cell_type": "code",
   "execution_count": 13,
   "id": "ac3d1eb9",
   "metadata": {},
   "outputs": [],
   "source": [
    "import requests\n",
    "from bs4 import BeautifulSoup\n",
    "from urllib.parse import urljoin\n",
    "from IPython.display import Image, display\n",
    "\n",
    "def scrape_nate_news_with_images():\n",
    "    base_url = 'https://news.nate.com'\n",
    "    section_urls = {\n",
    "        '최신뉴스': 'https://news.nate.com/recent?mid=n0100',\n",
    "        '정치': 'https://news.nate.com/recent?mid=n0101',\n",
    "        '경제': 'https://news.nate.com/recent?mid=n0102',\n",
    "        '사회': 'https://news.nate.com/recent?mid=n0103',\n",
    "        '세계': 'https://news.nate.com/recent?mid=n0104',\n",
    "        'IT/과학': 'https://news.nate.com/recent?mid=n0105',\n",
    "    }\n",
    "\n",
    "    for section, url in section_urls.items():\n",
    "        print(f'\\n🔷 [섹션: {section}]\\n')"
   ]
  }
 ],
 "metadata": {
  "kernelspec": {
   "display_name": "base",
   "language": "python",
   "name": "python3"
  },
  "language_info": {
   "codemirror_mode": {
    "name": "ipython",
    "version": 3
   },
   "file_extension": ".py",
   "mimetype": "text/x-python",
   "name": "python",
   "nbconvert_exporter": "python",
   "pygments_lexer": "ipython3",
   "version": "3.12.7"
  }
 },
 "nbformat": 4,
 "nbformat_minor": 5
}
