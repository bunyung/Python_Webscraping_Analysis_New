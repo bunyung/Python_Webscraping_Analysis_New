{
 "cells": [
  {
   "cell_type": "markdown",
   "id": "961c0541",
   "metadata": {},
   "source": [
    "## 웹툰 Image 다운로드"
   ]
  },
  {
   "cell_type": "code",
   "execution_count": 5,
   "id": "6ab40b14",
   "metadata": {},
   "outputs": [
    {
     "name": "stdout",
     "output_type": "stream",
     "text": [
      "[에러] 웹툰 이미지를 찾을 수 없습니다.\n"
     ]
    }
   ],
   "source": [
    "import os\n",
    "import requests\n",
    "from bs4 import BeautifulSoup\n",
    "from urllib.parse import urljoin\n",
    "\n",
    "def download_one_episode(title, no, url):\n",
    "    headers = {\n",
    "        'User-Agent': 'Mozilla/5.0'\n",
    "    }\n",
    "\n",
    "    # 요청 보내기\n",
    "    response = requests.get(url, headers=headers)\n",
    "    if response.status_code != 200:\n",
    "        print(f\"[에러] 웹툰 페이지 요청 실패: {response.status_code}\")\n",
    "        return\n",
    "\n",
    "    soup = BeautifulSoup(response.text, 'html.parser')\n",
    "\n",
    "    # 이미지 태그들 가져오기 (모바일 페이지는 웹툰 이미지가 <img class=\"EpisodeImage\">에 있음)\n",
    "    img_tags = soup.select('img.EpisodeImage')\n",
    "\n",
    "    if not img_tags:\n",
    "        print(\"[에러] 웹툰 이미지를 찾을 수 없습니다.\")\n",
    "        return\n",
    "\n",
    "    # 디렉토리 생성\n",
    "    save_dir = os.path.join('img', title, str(no))\n",
    "    os.makedirs(save_dir, exist_ok=True)\n",
    "\n",
    "    # 이미지 다운로드\n",
    "    for idx, img_tag in enumerate(img_tags, 1):\n",
    "        img_url = img_tag.get('src')\n",
    "        if not img_url:\n",
    "            continue\n",
    "\n",
    "        # 절대 경로 보정\n",
    "        img_url = urljoin(url, img_url)\n",
    "\n",
    "        try:\n",
    "            img_data = requests.get(img_url, headers=headers).content\n",
    "            file_ext = os.path.splitext(img_url)[-1].split('?')[0]  # 확장자 추출\n",
    "            img_path = os.path.join(save_dir, f'{idx:03d}{file_ext}')\n",
    "            with open(img_path, 'wb') as f:\n",
    "                f.write(img_data)\n",
    "            print(f\"[완료] {img_path} 저장됨\")\n",
    "        except Exception as e:\n",
    "            print(f\"[에러] 이미지 다운로드 실패: {e}\")\n",
    "\n",
    "# 호출 예시\n",
    "download_one_episode(\n",
    "    '일렉시드',\n",
    "    341,\n",
    "    'https://m.comic.naver.com/webtoon/detail?titleId=717481&no=341&week=wed&listSortOrder=DESC&listPage=1'\n",
    ")"
   ]
  }
 ],
 "metadata": {
  "kernelspec": {
   "display_name": "base",
   "language": "python",
   "name": "python3"
  },
  "language_info": {
   "codemirror_mode": {
    "name": "ipython",
    "version": 3
   },
   "file_extension": ".py",
   "mimetype": "text/x-python",
   "name": "python",
   "nbconvert_exporter": "python",
   "pygments_lexer": "ipython3",
   "version": "3.12.7"
  }
 },
 "nbformat": 4,
 "nbformat_minor": 5
}
